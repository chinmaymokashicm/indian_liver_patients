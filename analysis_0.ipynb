{
 "cells": [
  {
   "cell_type": "code",
   "execution_count": 1,
   "metadata": {},
   "outputs": [],
   "source": [
    "import numpy as np\n",
    "import pandas as pd"
   ]
  },
  {
   "cell_type": "code",
   "execution_count": 2,
   "metadata": {},
   "outputs": [
    {
     "output_type": "execute_result",
     "data": {
      "text/plain": "   Age  Gender  Total_Bilirubin  Direct_Bilirubin  Alkaline_Phosphotase  \\\n0   65  Female              0.7               0.1                   187   \n1   62    Male             10.9               5.5                   699   \n2   62    Male              7.3               4.1                   490   \n3   58    Male              1.0               0.4                   182   \n4   72    Male              3.9               2.0                   195   \n\n   Alamine_Aminotransferase  Aspartate_Aminotransferase  Total_Protiens  \\\n0                        16                          18             6.8   \n1                        64                         100             7.5   \n2                        60                          68             7.0   \n3                        14                          20             6.8   \n4                        27                          59             7.3   \n\n   Albumin  Albumin_and_Globulin_Ratio  Dataset  \n0      3.3                        0.90        1  \n1      3.2                        0.74        1  \n2      3.3                        0.89        1  \n3      3.4                        1.00        1  \n4      2.4                        0.40        1  ",
      "text/html": "<div>\n<style scoped>\n    .dataframe tbody tr th:only-of-type {\n        vertical-align: middle;\n    }\n\n    .dataframe tbody tr th {\n        vertical-align: top;\n    }\n\n    .dataframe thead th {\n        text-align: right;\n    }\n</style>\n<table border=\"1\" class=\"dataframe\">\n  <thead>\n    <tr style=\"text-align: right;\">\n      <th></th>\n      <th>Age</th>\n      <th>Gender</th>\n      <th>Total_Bilirubin</th>\n      <th>Direct_Bilirubin</th>\n      <th>Alkaline_Phosphotase</th>\n      <th>Alamine_Aminotransferase</th>\n      <th>Aspartate_Aminotransferase</th>\n      <th>Total_Protiens</th>\n      <th>Albumin</th>\n      <th>Albumin_and_Globulin_Ratio</th>\n      <th>Dataset</th>\n    </tr>\n  </thead>\n  <tbody>\n    <tr>\n      <th>0</th>\n      <td>65</td>\n      <td>Female</td>\n      <td>0.7</td>\n      <td>0.1</td>\n      <td>187</td>\n      <td>16</td>\n      <td>18</td>\n      <td>6.8</td>\n      <td>3.3</td>\n      <td>0.90</td>\n      <td>1</td>\n    </tr>\n    <tr>\n      <th>1</th>\n      <td>62</td>\n      <td>Male</td>\n      <td>10.9</td>\n      <td>5.5</td>\n      <td>699</td>\n      <td>64</td>\n      <td>100</td>\n      <td>7.5</td>\n      <td>3.2</td>\n      <td>0.74</td>\n      <td>1</td>\n    </tr>\n    <tr>\n      <th>2</th>\n      <td>62</td>\n      <td>Male</td>\n      <td>7.3</td>\n      <td>4.1</td>\n      <td>490</td>\n      <td>60</td>\n      <td>68</td>\n      <td>7.0</td>\n      <td>3.3</td>\n      <td>0.89</td>\n      <td>1</td>\n    </tr>\n    <tr>\n      <th>3</th>\n      <td>58</td>\n      <td>Male</td>\n      <td>1.0</td>\n      <td>0.4</td>\n      <td>182</td>\n      <td>14</td>\n      <td>20</td>\n      <td>6.8</td>\n      <td>3.4</td>\n      <td>1.00</td>\n      <td>1</td>\n    </tr>\n    <tr>\n      <th>4</th>\n      <td>72</td>\n      <td>Male</td>\n      <td>3.9</td>\n      <td>2.0</td>\n      <td>195</td>\n      <td>27</td>\n      <td>59</td>\n      <td>7.3</td>\n      <td>2.4</td>\n      <td>0.40</td>\n      <td>1</td>\n    </tr>\n  </tbody>\n</table>\n</div>"
     },
     "metadata": {},
     "execution_count": 2
    }
   ],
   "source": [
    "df_raw = pd.read_csv('indian_liver_patient.csv')\n",
    "df_raw.head()"
   ]
  },
  {
   "cell_type": "markdown",
   "metadata": {},
   "source": [
    "### Checking if any columns have NaN values"
   ]
  },
  {
   "cell_type": "code",
   "execution_count": 3,
   "metadata": {},
   "outputs": [
    {
     "output_type": "stream",
     "name": "stdout",
     "text": "The following columns have NaN values:\n\nAlbumin_and_Globulin_Ratio\n"
    }
   ],
   "source": [
    "\"\"\"\n",
    "Unnecessary code\n",
    "\"\"\"\n",
    "list_na_cols = []\n",
    "for column in np.array(df_raw.columns):\n",
    "    if(df_raw[column].isna().any()):\n",
    "        list_na_cols.append(column)\n",
    "print('The following columns have NaN values:\\n\\n{}'.format('\\n'.join(list_na_cols)))"
   ]
  },
  {
   "cell_type": "code",
   "execution_count": 100,
   "metadata": {},
   "outputs": [],
   "source": [
    "df_raw.index[df_raw['Albumin_and_Globulin_Ratio'].isna()].tolist()\n",
    "\n",
    "def get_null_rows(df):\n",
    "    list_na_cols = []\n",
    "    for column in df.columns.tolist():\n",
    "        if(df[column].isna().any()):\n",
    "            list_na_cols.append({\n",
    "                'column': column,\n",
    "                'indices': df.index[df[column].isna()].tolist()\n",
    "            })\n",
    "    for i in range(0, len(list_na_cols)):\n",
    "        print(list_na_cols[i])\n",
    "        list_df_new = []\n",
    "        list_new = []\n",
    "        # df_new = pd.DataFrame(columns=df.columns)\n",
    "        for j in range(0, len(list_na_cols[i]['indices'])):\n",
    "            list_new.append(df.iloc[list_na_cols[i]['indices'][j]])\n",
    "        list_df_new.append(pd.DataFrame(list_new, columns=df.columns))\n",
    "        # Print dataframes accordingly\n",
    "        print(list_na_cols[i])\n",
    "        pd.concat(df_new)\n",
    "        print(df_new)\n",
    "    return([list_na_cols, list_df_new])"
   ]
  },
  {
   "cell_type": "code",
   "execution_count": 99,
   "metadata": {},
   "outputs": [
    {
     "output_type": "stream",
     "name": "stdout",
     "text": "{'column': 'Albumin_and_Globulin_Ratio', 'indices': [209, 241, 253, 312]}\n"
    },
    {
     "output_type": "execute_result",
     "data": {
      "text/plain": "     Age  Gender  Total_Bilirubin  Direct_Bilirubin  Alkaline_Phosphotase  \\\n209   45  Female              0.9               0.3                   189   \n241   51    Male              0.8               0.2                   230   \n253   35  Female              0.6               0.2                   180   \n312   27    Male              1.3               0.6                   106   \n\n     Alamine_Aminotransferase  Aspartate_Aminotransferase  Total_Protiens  \\\n209                        23                          33             6.6   \n241                        24                          46             6.5   \n253                        12                          15             5.2   \n312                        25                          54             8.5   \n\n     Albumin  Albumin_and_Globulin_Ratio  Dataset  \n209      3.9                         NaN        1  \n241      3.1                         NaN        1  \n253      2.7                         NaN        2  \n312      4.8                         NaN        2  ",
      "text/html": "<div>\n<style scoped>\n    .dataframe tbody tr th:only-of-type {\n        vertical-align: middle;\n    }\n\n    .dataframe tbody tr th {\n        vertical-align: top;\n    }\n\n    .dataframe thead th {\n        text-align: right;\n    }\n</style>\n<table border=\"1\" class=\"dataframe\">\n  <thead>\n    <tr style=\"text-align: right;\">\n      <th></th>\n      <th>Age</th>\n      <th>Gender</th>\n      <th>Total_Bilirubin</th>\n      <th>Direct_Bilirubin</th>\n      <th>Alkaline_Phosphotase</th>\n      <th>Alamine_Aminotransferase</th>\n      <th>Aspartate_Aminotransferase</th>\n      <th>Total_Protiens</th>\n      <th>Albumin</th>\n      <th>Albumin_and_Globulin_Ratio</th>\n      <th>Dataset</th>\n    </tr>\n  </thead>\n  <tbody>\n    <tr>\n      <th>209</th>\n      <td>45</td>\n      <td>Female</td>\n      <td>0.9</td>\n      <td>0.3</td>\n      <td>189</td>\n      <td>23</td>\n      <td>33</td>\n      <td>6.6</td>\n      <td>3.9</td>\n      <td>NaN</td>\n      <td>1</td>\n    </tr>\n    <tr>\n      <th>241</th>\n      <td>51</td>\n      <td>Male</td>\n      <td>0.8</td>\n      <td>0.2</td>\n      <td>230</td>\n      <td>24</td>\n      <td>46</td>\n      <td>6.5</td>\n      <td>3.1</td>\n      <td>NaN</td>\n      <td>1</td>\n    </tr>\n    <tr>\n      <th>253</th>\n      <td>35</td>\n      <td>Female</td>\n      <td>0.6</td>\n      <td>0.2</td>\n      <td>180</td>\n      <td>12</td>\n      <td>15</td>\n      <td>5.2</td>\n      <td>2.7</td>\n      <td>NaN</td>\n      <td>2</td>\n    </tr>\n    <tr>\n      <th>312</th>\n      <td>27</td>\n      <td>Male</td>\n      <td>1.3</td>\n      <td>0.6</td>\n      <td>106</td>\n      <td>25</td>\n      <td>54</td>\n      <td>8.5</td>\n      <td>4.8</td>\n      <td>NaN</td>\n      <td>2</td>\n    </tr>\n  </tbody>\n</table>\n</div>"
     },
     "metadata": {},
     "execution_count": 99
    }
   ],
   "source": [
    "arr = np.array(df_raw.iloc[209])\n",
    "# df = pd.DataFrame(columns=df_raw.columns)\n",
    "get_null_rows(df_raw)"
   ]
  },
  {
   "cell_type": "code",
   "execution_count": null,
   "metadata": {},
   "outputs": [],
   "source": []
  }
 ],
 "metadata": {
  "language_info": {
   "codemirror_mode": {
    "name": "ipython",
    "version": 3
   },
   "file_extension": ".py",
   "mimetype": "text/x-python",
   "name": "python",
   "nbconvert_exporter": "python",
   "pygments_lexer": "ipython3",
   "version": "3.6.9-final"
  },
  "orig_nbformat": 2,
  "kernelspec": {
   "name": "python36964bit8cf669260c7e434abeef57232cbbe76c",
   "display_name": "Python 3.6.9 64-bit"
  }
 },
 "nbformat": 4,
 "nbformat_minor": 2
}